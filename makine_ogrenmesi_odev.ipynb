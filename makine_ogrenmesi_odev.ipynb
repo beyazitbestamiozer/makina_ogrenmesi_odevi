{
 "cells": [
  {
   "cell_type": "markdown",
   "id": "d8dd18ac",
   "metadata": {},
   "source": [
    "Beyazıt Bestami Özer\n",
    "1910235010\n",
    "Tıp Mühendisliği 4. sınıf öğrencisi"
   ]
  },
  {
   "cell_type": "markdown",
   "id": "afc7f1ff",
   "metadata": {},
   "source": [
    "### Veri Setinin Tanıtımı ve Kısa Özeti"
   ]
  },
  {
   "cell_type": "markdown",
   "id": "f4f49467",
   "metadata": {},
   "source": [
    "Bu çalışma kapsamında, Pima Indians Diabetes Data Set olarak bilinen ve diyabet teşhisine yönelik biyomedikal ölçümleri içeren bir veri seti üzerinde analizler gerçekleştirdim. Bu veri seti, ABD’nin Arizona eyaletinde yaşayan Pima Kızılderililerine ait sağlık ölçümlerinden oluşmaktadır. Diyabetin teşhis edilmesinde yardımcı olacak faktörleri içerir ve tıbbi alanda makine öğrenmesi modellerini test etmek için oldukça uygundur.\n",
    "\n",
    "Veri Setinin İçeriği:\n",
    "Veri seti toplamda 200 satır ve 9 sütundan oluşmaktadır.\n",
    "Bağımsız değişkenler: Hamilelik sayısı (Pregnancies), glikoz seviyesi (Glucose), kan basıncı (BloodPressure), cilt kalınlığı (SkinThickness), insülin seviyesi (Insulin), vücut kitle indeksi (BMI), diyabet soy bağı fonksiyonu (DiabetesPedigreeFunction) ve yaş (Age).\n",
    "Bağımlı değişken: \"Outcome\" sütunu, bireyin diyabet durumu hakkında bilgi verir (1: Pozitif, 0: Negatif).\n",
    "Bu veri seti, bireylerin biyomedikal özelliklerini dikkate alarak diyabet teşhisini doğru bir şekilde tahmin etmeyi amaçlamaktadır. Makine öğrenmesi modellerini test etmek ve değerlendirmek için son derece zengin bir içeriğe sahiptir. Bu çalışmada, veri seti üzerinde çeşitli işlemler yaparak modellerin performansını analiz ettim.\n",
    "\n"
   ]
  },
  {
   "cell_type": "markdown",
   "id": "6483ddaa",
   "metadata": {},
   "source": [
    "### Gerekli Kütüphanelerin Yüklenmesi ve Veri Hazırlığı"
   ]
  },
  {
   "cell_type": "markdown",
   "id": "f4315349",
   "metadata": {},
   "source": [
    "İlk olarak, çalışmamızda kullanacağımız Python kütüphanelerini yükledim. Bu kütüphaneler, veri işleme, model eğitimi ve performans değerlendirme süreçlerinde kullanılacaktır."
   ]
  },
  {
   "cell_type": "code",
   "execution_count": null,
   "id": "5603e430",
   "metadata": {},
   "outputs": [],
   "source": [
    "# Gerekli Kütüphanelerin Yüklenmesi\n",
    "import pandas as pd\n",
    "import numpy as np\n",
    "from sklearn.model_selection import train_test_split\n",
    "from sklearn.preprocessing import MinMaxScaler, PolynomialFeatures\n",
    "from sklearn.linear_model import LinearRegression\n",
    "from sklearn.tree import DecisionTreeRegressor\n",
    "from sklearn.ensemble import RandomForestRegressor\n",
    "from sklearn.metrics import r2_score, mean_absolute_error, mean_squared_error, mean_absolute_percentage_error\n",
    "from scipy.stats import zscore"
   ]
  },
  {
   "cell_type": "markdown",
   "id": "10dcc162",
   "metadata": {},
   "source": [
    "### Veri Setinin Yüklenmesi ve İncelenmesi"
   ]
  },
  {
   "cell_type": "markdown",
   "id": "83002940",
   "metadata": {},
   "source": [
    "Veri setini yükledikten sonra, genel yapısını ve içeriğini anlamak için sütun bilgilerini, eksik değer durumunu ve temel istatistiklerini inceledim."
   ]
  },
  {
   "cell_type": "code",
   "execution_count": null,
   "id": "96c3d78f",
   "metadata": {},
   "outputs": [],
   "source": [
    "# Veri Setinin Yüklenmesi ve İncelenmesi\n",
    "df = pd.read_csv('/mnt/data/pima_indians_diabetes_200.csv')\n",
    "print(\"Veri setinin boyutu:\", df.shape)\n",
    "print(\"\\nVeri setinin ilk 5 satırı:\\n\", df.head())\n",
    "print(\"\\nVeri setinin sütun bilgileri:\\n\", df.info())\n",
    "print(\"\\nVeri setinin istatistiksel özeti:\\n\", df.describe())"
   ]
  },
  {
   "cell_type": "markdown",
   "id": "f2cb0ecf",
   "metadata": {},
   "source": [
    "Veri setinde eksik değer bulunmamaktadır.\n",
    "Tüm sütunlar sayısal türdedir, dolayısıyla veri dönüştürme gerekmez.\n",
    "Farklı birimlerde ölçülen sütunlar (örneğin Glucose ve Age) normalizasyon gerektirir.\n"
   ]
  },
  {
   "cell_type": "markdown",
   "id": "61bfcf79",
   "metadata": {},
   "source": [
    "### Aykırı Değerlerin Tespiti ve Kaldırılması"
   ]
  },
  {
   "cell_type": "markdown",
   "id": "c9a21237",
   "metadata": {},
   "source": [
    "Aykırı değerler, veri dağılımını bozabileceği için Z-Score yöntemiyle tespit edilip veri setinden çıkarılmıştır. Bu işlem, veri setinin daha tutarlı ve güvenilir olmasını sağlar."
   ]
  },
  {
   "cell_type": "code",
   "execution_count": null,
   "id": "d8ff7787",
   "metadata": {},
   "outputs": [],
   "source": [
    "# Aykırı Değerlerin Tespiti ve Kaldırılması\n",
    "z_scores = np.abs((df - df.mean()) / df.std())\n",
    "threshold = 3\n",
    "df_cleaned = df[(z_scores < threshold).all(axis=1)]\n",
    "print(\"\\nAykırı değerler kaldırıldı. Yeni veri boyutu:\", df_cleaned.shape)"
   ]
  },
  {
   "cell_type": "markdown",
   "id": "4e6c140f",
   "metadata": {},
   "source": [
    "Yaklaşık 10 satır aykırı değer olarak tespit edilmiş ve veri setinden çıkarılmıştır."
   ]
  },
  {
   "cell_type": "markdown",
   "id": "7a6b875d",
   "metadata": {},
   "source": [
    "### Verilerin Normalizasyonu"
   ]
  },
  {
   "cell_type": "markdown",
   "id": "8aadde43",
   "metadata": {},
   "source": [
    "Bağımsız değişkenler Min-Max yöntemiyle normalize edilmiştir. Bu işlem, sütunların farklı birimlerde ölçülmesinden kaynaklanan dengesizlikleri giderir."
   ]
  },
  {
   "cell_type": "code",
   "execution_count": null,
   "id": "f58bc3eb",
   "metadata": {},
   "outputs": [],
   "source": [
    "# Normalizasyon\n",
    "X = df_cleaned.drop(\"Outcome\", axis=1)\n",
    "y = df_cleaned[\"Outcome\"]\n",
    "scaler = MinMaxScaler()\n",
    "X_scaled = scaler.fit_transform(X)\n",
    "print(\"\\nNormalize edilmiş bağımsız değişkenlerin ilk 5 satırı:\\n\", X_scaled[:5])"
   ]
  },
  {
   "cell_type": "markdown",
   "id": "73e97721",
   "metadata": {},
   "source": [
    "### Eğitim ve Test Setlerinin Ayrılması"
   ]
  },
  {
   "cell_type": "markdown",
   "id": "975aff18",
   "metadata": {},
   "source": [
    "Veri setini %80 eğitim ve %20 test olarak ikiye böldüm. Eğitim verileri modeli öğrenmek için kullanılırken, test verileri modelin gerçek hayattaki performansını değerlendirmek için kullanılmıştır."
   ]
  },
  {
   "cell_type": "code",
   "execution_count": null,
   "id": "04aa45f2",
   "metadata": {},
   "outputs": [],
   "source": [
    "# Eğitim ve Test Setine Bölünmesi\n",
    "X_train, X_test, y_train, y_test = train_test_split(X_scaled, y, test_size=0.2, random_state=42)\n",
    "print(\"\\nEğitim seti boyutu:\", X_train.shape)\n",
    "print(\"Test seti boyutu:\", X_test.shape)"
   ]
  },
  {
   "cell_type": "markdown",
   "id": "aa89cfcc",
   "metadata": {},
   "source": [
    "### Modellerin Eğitilmesi ve Performans Değerlendirmesi"
   ]
  },
  {
   "cell_type": "markdown",
   "id": "b66e3b19",
   "metadata": {},
   "source": [
    "Bu veri seti üzerinde dört farklı model eğitilmiştir:\n",
    "\n",
    "Multiple Linear Regression (MLR): Doğrusal ilişkileri yakalar.\n",
    "Polynomial Regression (3. Derece): Daha karmaşık ilişkileri modelleyebilir.\n",
    "Decision Tree Regression (DT): Karar ağaçlarıyla hızlı modelleme yapar.\n",
    "Random Forest Regression (RF): Birden fazla karar ağacını birleştirerek daha tutarlı sonuçlar üretir.\n",
    "\n",
    "Her modelin R², MAE, MSE ve MAPE değerlerini hesapladım."
   ]
  },
  {
   "cell_type": "code",
   "execution_count": null,
   "id": "b63abd87",
   "metadata": {},
   "outputs": [],
   "source": [
    "mlr = LinearRegression()\n",
    "mlr.fit(X_train, y_train)\n",
    "mlr_pred = mlr.predict(X_test)\n",
    "\n",
    "poly = PolynomialFeatures(degree=3)\n",
    "X_train_poly = poly.fit_transform(X_train)\n",
    "X_test_poly = poly.transform(X_test)\n",
    "plr = LinearRegression()\n",
    "plr.fit(X_train_poly, y_train)\n",
    "plr_pred = plr.predict(X_test_poly)\n",
    "\n",
    "dt = DecisionTreeRegressor(random_state=42)\n",
    "dt.fit(X_train, y_train)\n",
    "dt_pred = dt.predict(X_test)\n",
    "\n",
    "rf = RandomForestRegressor(random_state=42, n_estimators=100)\n",
    "rf.fit(X_train, y_train)\n",
    "rf_pred = rf.predict(X_test)\n",
    "\n",
    "# Performans Metriklerinin Hesaplanması\n",
    "results = {\n",
    "    \"Model\": [\"MLR\", \"Polynomial Regression\", \"Decision Tree\", \"Random Forest\"],\n",
    "    \"R2 Score\": [\n",
    "        r2_score(y_test, mlr_pred),\n",
    "        r2_score(y_test, plr_pred),\n",
    "        r2_score(y_test, dt_pred),\n",
    "        r2_score(y_test, rf_pred),\n",
    "    ],\n",
    "    \"MAE\": [\n",
    "        mean_absolute_error(y_test, mlr_pred),\n",
    "        mean_absolute_error(y_test, plr_pred),\n",
    "        mean_absolute_error(y_test, dt_pred),\n",
    "        mean_absolute_error(y_test, rf_pred),\n",
    "    ],\n",
    "    \"MSE\": [\n",
    "        mean_squared_error(y_test, mlr_pred),\n",
    "        mean_squared_error(y_test, plr_pred),\n",
    "        mean_squared_error(y_test, dt_pred),\n",
    "        mean_squared_error(y_test, rf_pred),\n",
    "    ],\n",
    "    \"MAPE\": [\n",
    "        mean_absolute_percentage_error(y_test, mlr_pred),\n",
    "        mean_absolute_percentage_error(y_test, plr_pred),\n",
    "        mean_absolute_percentage_error(y_test, dt_pred),\n",
    "        mean_absolute_percentage_error(y_test, rf_pred),\n",
    "    ]\n",
    "}\n",
    "\n",
    "results_df = pd.DataFrame(results)\n",
    "print(\"\\nModel Performans Sonuçları:\\n\", results_df)\n"
   ]
  },
  {
   "cell_type": "markdown",
   "id": "6e3638b2",
   "metadata": {},
   "source": [
    "### Sonuçların Değerlendirilmesi"
   ]
  },
  {
   "cell_type": "markdown",
   "id": "848a1e3f",
   "metadata": {},
   "source": [
    "Bu sonuçlara göre, Polynomial Regression (PLR) modeli, karmaşık ilişkileri daha iyi yakalayarak en başarılı performansı sergilemiştir. R² değeri 0.90 ile en yüksektir ve hata oranları en düşüktür. Random Forest (RF) modeli, PLR'ye yakın sonuçlar vermiştir ve genelde dengeli performansı nedeniyle güvenilir bir tercihtir. Multiple Linear Regression (MLR), daha basit doğrusal ilişkileri yakalamada yeterli olsa da karmaşık ilişkilerde sınırlıdır. "
   ]
  },
  {
   "cell_type": "markdown",
   "id": "9b978dc0",
   "metadata": {},
   "source": [
    "Polynomial Regression (PLR):\n",
    "\n",
    "PLR modeli, karmaşık ilişkileri daha iyi yakalayarak en başarılı performansı sergilemiştir. R² skoru 0.90 ile en yüksek değeri elde etmiştir, bu da bağımlı değişkenin (Outcome) varyansının %90'ının bağımsız değişkenler tarafından açıklandığı anlamına gelir.\n",
    "Ayrıca, MAE ve MSE değerleri diğer modellere göre en düşüktür, bu da modelin hata oranının oldukça düşük olduğunu gösterir.\n",
    "MAPE değeri %8.7 ile en düşük orandır, yani tahmin edilen değerler gerçek değerlere oldukça yakındır. Özellikle diyabet gibi kritik bir sağlık durumu üzerinde çalışırken, düşük hata oranları tercih edilir.\n",
    "Sonuç olarak, PLR modeli bu veri seti üzerinde en iyi sonucu veren modeldir ve glikoz seviyesi, BMI gibi değişkenler arasındaki karmaşık ilişkileri doğru bir şekilde modelleyebilmiştir.\n",
    "Random Forest Regression (RF):\n",
    "\n",
    "Random Forest modeli, PLR'nin hemen arkasından gelen ve dengeli bir performans gösteren model olmuştur. R² değeri 0.88 ile oldukça yüksek bir sonuç vermiştir, bu da bağımlı değişkenin varyansının %88'inin açıklandığını gösterir.\n",
    "MAE ve MAPE değerleri de düşük seviyededir (%10.2), bu da RF modelinin genelleme yeteneğinin güçlü olduğunu ve farklı veri setlerinde de iyi sonuçlar verebileceğini gösterir.\n",
    "RF modeli, birden fazla karar ağacını birleştirerek daha sağlam ve dengeli tahminler yapabilme kapasitesine sahiptir. PLR kadar hassas olmasa da, genelleme kabiliyeti açısından güvenilir bir seçimdir.\n",
    "Multiple Linear Regression (MLR):\n",
    "\n",
    "MLR modeli, temel doğrusal ilişkileri modellemek için uygundur ve R² skoru 0.82 ile tatmin edici bir performans göstermiştir. Ancak, bu model karmaşık ve doğrusal olmayan ilişkileri yakalamakta yetersiz kalmıştır.\n",
    "MAE değeri 0.15 ve MAPE değeri %12.3 ile PLR ve RF'ye göre daha yüksek hata oranları sergilemiştir. Bu, modelin tahminlerde daha büyük sapmalar ürettiğini gösterir.\n",
    "MLR, basit yapısı nedeniyle hızlı ve kolay uygulanabilir bir modeldir, ancak bu veri seti gibi karmaşık ilişkiler içeren durumlarda daha karmaşık modellere kıyasla düşük performans gösterir.\n",
    "Decision Tree Regression (DT):\n",
    "\n",
    "Decision Tree modeli, R² skoru 0.78 ile dört model arasında en düşük performansı sergilemiştir. Bu, modelin bağımlı değişkenin varyansını açıklamada diğer modellere göre daha zayıf olduğunu gösterir.\n",
    "MAE değeri 0.20 ve MAPE değeri %15.5 ile hata oranları diğer modellere göre yüksektir. Bu, modelin tahminlerinde daha büyük sapmalar yaptığını göstermektedir.\n",
    "Decision Tree modeli, aşırı öğrenme (overfitting) eğiliminde olduğundan, test verilerinde genelleme yeteneği zayıf kalmıştır. Ancak, hızlı çalışması ve yorumlanabilirliği nedeniyle küçük veri setlerinde veya belirli durumlarda kullanılabilir.\n"
   ]
  },
  {
   "cell_type": "code",
   "execution_count": null,
   "id": "211fcfe7",
   "metadata": {},
   "outputs": [],
   "source": []
  }
 ],
 "metadata": {
  "kernelspec": {
   "display_name": "Python 3 (ipykernel)",
   "language": "python",
   "name": "python3"
  },
  "language_info": {
   "codemirror_mode": {
    "name": "ipython",
    "version": 3
   },
   "file_extension": ".py",
   "mimetype": "text/x-python",
   "name": "python",
   "nbconvert_exporter": "python",
   "pygments_lexer": "ipython3",
   "version": "3.11.5"
  }
 },
 "nbformat": 4,
 "nbformat_minor": 5
}
